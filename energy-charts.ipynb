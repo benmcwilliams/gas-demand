{
 "cells": [
  {
   "cell_type": "code",
   "execution_count": 37,
   "metadata": {},
   "outputs": [
    {
     "name": "stdout",
     "output_type": "stream",
     "text": [
      "\n",
      "1. Making API request...\n"
     ]
    }
   ],
   "source": [
    "import requests\n",
    "import pandas as pd\n",
    "from datetime import datetime, timedelta\n",
    "import json\n",
    "\n",
    "country = 'fi'  # Let's start with Germany as an example\n",
    "start_date = '2024-01-01'\n",
    "end_date = '2024-01-01'\n",
    "\n",
    "url = \"https://api.energy-charts.info/public_power\"\n",
    "params = {\n",
    "    \"country\": country,\n",
    "    \"start\": f\"{start_date}T00:00+01:00\",\n",
    "    \"end\": f\"{end_date}T23:45+01:00\"\n",
    "}\n",
    "\n",
    "print(\"\\n1. Making API request...\")\n",
    "response = requests.get(url, params=params)\n",
    "data = response.json() \n",
    "\n",
    "entries = data['production_types']\n",
    "entries_dict = {entry['name']: entry['data'] for entry in entries}\n",
    "fossil_gas_data = entries_dict.get(\"Fossil gas\")\n",
    "\n",
    "##### TO BE EDITED ######"
   ]
  },
  {
   "cell_type": "code",
   "execution_count": 44,
   "metadata": {},
   "outputs": [
    {
     "data": {
      "text/plain": [
       "4411.175"
      ]
     },
     "execution_count": 44,
     "metadata": {},
     "output_type": "execute_result"
    }
   ],
   "source": [
    "sum(fossil_gas_data)/4"
   ]
  },
  {
   "cell_type": "code",
   "execution_count": null,
   "metadata": {},
   "outputs": [],
   "source": [
    "\n",
    "# Find and extract Fossil gas data\n",
    "gas_data = None\n",
    "for prod_type in data['production_types']:\n",
    "    if prod_type['name'] == 'Fossil gas':\n",
    "        gas_data = prod_type\n",
    "\n",
    "if gas_data and gas_data['data']:  # Check if we have data\n",
    "    # Create lists of timestamps and values, filtering out None values\n",
    "    timestamps = []\n",
    "    values = []\n",
    "    for ts, val in zip(data['unix_seconds'], gas_data['data']):\n",
    "        if val is not None:  # Only include non-None values\n",
    "            timestamps.append(ts)\n",
    "            values.append(val * 2)  # Multiply by 2\n",
    "    \n",
    "    # Create DataFrame with filtered data\n",
    "    df = pd.DataFrame({\n",
    "        'timestamp': [datetime.utcfromtimestamp(ts) for ts in timestamps],\n",
    "        'demand': values\n",
    "    })\n",
    "\n",
    "    df['timestamp'] = df['timestamp'] + pd.DateOffset(hours=1)  # Added line to shift timestamps\n",
    "    \n",
    "    # Convert to daily values\n",
    "    daily_df = pd.DataFrame({\n",
    "        'country': country.upper(),\n",
    "        'date': df.groupby(df['timestamp'].dt.date)['timestamp'].first(),\n",
    "        'demand': df.groupby(df['timestamp'].dt.date)['demand'].sum(),\n",
    "        'type': 'power'\n",
    "    }).reset_index(drop=True)\n"
   ]
  },
  {
   "cell_type": "code",
   "execution_count": null,
   "metadata": {},
   "outputs": [],
   "source": [
    "df = pd.DataFrame({\n",
    "    'timestamp': [datetime.utcfromtimestamp(ts) for ts in timestamps],\n",
    "    'demand': values\n",
    "})"
   ]
  },
  {
   "cell_type": "code",
   "execution_count": 35,
   "metadata": {},
   "outputs": [
    {
     "data": {
      "text/plain": [
       "96"
      ]
     },
     "execution_count": 35,
     "metadata": {},
     "output_type": "execute_result"
    }
   ],
   "source": [
    "len(fossil_gas_data)"
   ]
  },
  {
   "cell_type": "code",
   "execution_count": 36,
   "metadata": {},
   "outputs": [
    {
     "data": {
      "text/plain": [
       "96"
      ]
     },
     "execution_count": 36,
     "metadata": {},
     "output_type": "execute_result"
    }
   ],
   "source": [
    "len(data['unix_seconds'])"
   ]
  },
  {
   "cell_type": "code",
   "execution_count": 18,
   "metadata": {},
   "outputs": [
    {
     "data": {
      "text/plain": [
       "96"
      ]
     },
     "execution_count": 18,
     "metadata": {},
     "output_type": "execute_result"
    }
   ],
   "source": [
    "len(data['unix_seconds'])"
   ]
  },
  {
   "cell_type": "code",
   "execution_count": 25,
   "metadata": {},
   "outputs": [],
   "source": []
  },
  {
   "cell_type": "code",
   "execution_count": 28,
   "metadata": {},
   "outputs": [
    {
     "data": {
      "text/plain": [
       "dict_keys(['Cross border electricity trading', 'Nuclear', 'Hydro Run-of-River', 'Biomass', 'Fossil hard coal', 'Fossil peat', 'Fossil oil', 'Fossil gas', 'Others', 'Other renewables', 'Waste', 'Wind onshore', 'Solar', 'Load', 'Residual load', 'Renewable share of generation', 'Renewable share of load'])"
      ]
     },
     "execution_count": 28,
     "metadata": {},
     "output_type": "execute_result"
    }
   ],
   "source": [
    "entries_dict.keys()"
   ]
  },
  {
   "cell_type": "code",
   "execution_count": 24,
   "metadata": {},
   "outputs": [],
   "source": []
  },
  {
   "cell_type": "code",
   "execution_count": 22,
   "metadata": {},
   "outputs": [
    {
     "data": {
      "text/html": [
       "<div>\n",
       "<style scoped>\n",
       "    .dataframe tbody tr th:only-of-type {\n",
       "        vertical-align: middle;\n",
       "    }\n",
       "\n",
       "    .dataframe tbody tr th {\n",
       "        vertical-align: top;\n",
       "    }\n",
       "\n",
       "    .dataframe thead th {\n",
       "        text-align: right;\n",
       "    }\n",
       "</style>\n",
       "<table border=\"1\" class=\"dataframe\">\n",
       "  <thead>\n",
       "    <tr style=\"text-align: right;\">\n",
       "      <th></th>\n",
       "      <th>name</th>\n",
       "      <th>data</th>\n",
       "    </tr>\n",
       "  </thead>\n",
       "  <tbody>\n",
       "    <tr>\n",
       "      <th>0</th>\n",
       "      <td>Cross border electricity trading</td>\n",
       "      <td>[2271.7, 2271.7, 2271.7, 2271.7, 1977.7, 1977....</td>\n",
       "    </tr>\n",
       "    <tr>\n",
       "      <th>1</th>\n",
       "      <td>Nuclear</td>\n",
       "      <td>[4349.3, 4350.3, 4351.2, 4350.7, 4350.2, 4350....</td>\n",
       "    </tr>\n",
       "    <tr>\n",
       "      <th>2</th>\n",
       "      <td>Hydro Run-of-River</td>\n",
       "      <td>[1155.1, 1236.4, 1225.8, 1231.3, 1194.9, 1147....</td>\n",
       "    </tr>\n",
       "    <tr>\n",
       "      <th>3</th>\n",
       "      <td>Biomass</td>\n",
       "      <td>[833.1, 817.9, 802.3, 805.9, 802.1, 799.5, 796...</td>\n",
       "    </tr>\n",
       "    <tr>\n",
       "      <th>4</th>\n",
       "      <td>Fossil hard coal</td>\n",
       "      <td>[187.8, 188.4, 188.3, 187.7, 188.6, 190.2, 192...</td>\n",
       "    </tr>\n",
       "    <tr>\n",
       "      <th>5</th>\n",
       "      <td>Fossil peat</td>\n",
       "      <td>[482.9, 481.1, 485.2, 482.4, 478.7, 479.6, 478...</td>\n",
       "    </tr>\n",
       "    <tr>\n",
       "      <th>6</th>\n",
       "      <td>Fossil oil</td>\n",
       "      <td>[0.30000000000000004, 0.30000000000000004, 0.3...</td>\n",
       "    </tr>\n",
       "    <tr>\n",
       "      <th>7</th>\n",
       "      <td>Fossil gas</td>\n",
       "      <td>[181.7, 177.4, 175.3, 178.3, 178.2, 176.5, 171...</td>\n",
       "    </tr>\n",
       "    <tr>\n",
       "      <th>8</th>\n",
       "      <td>Others</td>\n",
       "      <td>[243.6, 244.2, 247.1, 244.7, 247.1, 247.1, 247...</td>\n",
       "    </tr>\n",
       "    <tr>\n",
       "      <th>9</th>\n",
       "      <td>Other renewables</td>\n",
       "      <td>[1.8, 1.8, 1.8, 1.8, 1.8, 1.8, 1.8, 1.8, 1.8, ...</td>\n",
       "    </tr>\n",
       "    <tr>\n",
       "      <th>10</th>\n",
       "      <td>Waste</td>\n",
       "      <td>[7.0, 7.0, 7.0, 7.0, 7.0, 7.0, 7.0, 7.0, 7.0, ...</td>\n",
       "    </tr>\n",
       "    <tr>\n",
       "      <th>11</th>\n",
       "      <td>Wind onshore</td>\n",
       "      <td>[2208.0, 2321.1, 2480.5, 2614.9, 2725.2, 2878....</td>\n",
       "    </tr>\n",
       "    <tr>\n",
       "      <th>12</th>\n",
       "      <td>Solar</td>\n",
       "      <td>[0.0, 0.0, 0.0, 0.0, 0.0, 0.0, 0.0, 0.0, 0.0, ...</td>\n",
       "    </tr>\n",
       "    <tr>\n",
       "      <th>13</th>\n",
       "      <td>Load</td>\n",
       "      <td>[12442.0, 12478.0, 12421.0, 12378.0, 12329.0, ...</td>\n",
       "    </tr>\n",
       "    <tr>\n",
       "      <th>14</th>\n",
       "      <td>Residual load</td>\n",
       "      <td>[10234.0, 10156.9, 9940.5, 9763.1, 9603.8, 945...</td>\n",
       "    </tr>\n",
       "    <tr>\n",
       "      <th>15</th>\n",
       "      <td>Renewable share of generation</td>\n",
       "      <td>[43.5, 44.6, 45.3, 46.1, 46.5, 47.0, 47.3, 47....</td>\n",
       "    </tr>\n",
       "    <tr>\n",
       "      <th>16</th>\n",
       "      <td>Renewable share of load</td>\n",
       "      <td>[33.8, 35.1, 36.3, 37.6, 38.3, 39.2, 39.7, 39....</td>\n",
       "    </tr>\n",
       "  </tbody>\n",
       "</table>\n",
       "</div>"
      ],
      "text/plain": [
       "                                name  \\\n",
       "0   Cross border electricity trading   \n",
       "1                            Nuclear   \n",
       "2                 Hydro Run-of-River   \n",
       "3                            Biomass   \n",
       "4                   Fossil hard coal   \n",
       "5                        Fossil peat   \n",
       "6                         Fossil oil   \n",
       "7                         Fossil gas   \n",
       "8                             Others   \n",
       "9                   Other renewables   \n",
       "10                             Waste   \n",
       "11                      Wind onshore   \n",
       "12                             Solar   \n",
       "13                              Load   \n",
       "14                     Residual load   \n",
       "15     Renewable share of generation   \n",
       "16           Renewable share of load   \n",
       "\n",
       "                                                 data  \n",
       "0   [2271.7, 2271.7, 2271.7, 2271.7, 1977.7, 1977....  \n",
       "1   [4349.3, 4350.3, 4351.2, 4350.7, 4350.2, 4350....  \n",
       "2   [1155.1, 1236.4, 1225.8, 1231.3, 1194.9, 1147....  \n",
       "3   [833.1, 817.9, 802.3, 805.9, 802.1, 799.5, 796...  \n",
       "4   [187.8, 188.4, 188.3, 187.7, 188.6, 190.2, 192...  \n",
       "5   [482.9, 481.1, 485.2, 482.4, 478.7, 479.6, 478...  \n",
       "6   [0.30000000000000004, 0.30000000000000004, 0.3...  \n",
       "7   [181.7, 177.4, 175.3, 178.3, 178.2, 176.5, 171...  \n",
       "8   [243.6, 244.2, 247.1, 244.7, 247.1, 247.1, 247...  \n",
       "9   [1.8, 1.8, 1.8, 1.8, 1.8, 1.8, 1.8, 1.8, 1.8, ...  \n",
       "10  [7.0, 7.0, 7.0, 7.0, 7.0, 7.0, 7.0, 7.0, 7.0, ...  \n",
       "11  [2208.0, 2321.1, 2480.5, 2614.9, 2725.2, 2878....  \n",
       "12  [0.0, 0.0, 0.0, 0.0, 0.0, 0.0, 0.0, 0.0, 0.0, ...  \n",
       "13  [12442.0, 12478.0, 12421.0, 12378.0, 12329.0, ...  \n",
       "14  [10234.0, 10156.9, 9940.5, 9763.1, 9603.8, 945...  \n",
       "15  [43.5, 44.6, 45.3, 46.1, 46.5, 47.0, 47.3, 47....  \n",
       "16  [33.8, 35.1, 36.3, 37.6, 38.3, 39.2, 39.7, 39....  "
      ]
     },
     "execution_count": 22,
     "metadata": {},
     "output_type": "execute_result"
    }
   ],
   "source": [
    "pd.DataFrame(entries)"
   ]
  },
  {
   "cell_type": "code",
   "execution_count": null,
   "metadata": {},
   "outputs": [],
   "source": []
  }
 ],
 "metadata": {
  "kernelspec": {
   "display_name": "Python (highcharts)",
   "language": "python",
   "name": "highcharts"
  },
  "language_info": {
   "codemirror_mode": {
    "name": "ipython",
    "version": 3
   },
   "file_extension": ".py",
   "mimetype": "text/x-python",
   "name": "python",
   "nbconvert_exporter": "python",
   "pygments_lexer": "ipython3",
   "version": "3.10.16"
  }
 },
 "nbformat": 4,
 "nbformat_minor": 2
}
