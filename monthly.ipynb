{
 "cells": [
  {
   "cell_type": "markdown",
   "metadata": {},
   "source": []
  },
  {
   "cell_type": "code",
   "execution_count": 16,
   "metadata": {},
   "outputs": [],
   "source": [
    "\n",
    "import pandas as pd\n",
    "import numpy as np\n",
    "import matplotlib.pyplot as plt\n",
    "\n"
   ]
  },
  {
   "cell_type": "code",
   "execution_count": 17,
   "metadata": {},
   "outputs": [],
   "source": [
    "df = pd.read_csv(\"src/data/analyzed/monthly_demand_clean.csv\")\n"
   ]
  },
  {
   "cell_type": "code",
   "execution_count": 18,
   "metadata": {},
   "outputs": [],
   "source": [
    "#sum total; industry etc to get a European value\n",
    "df_europe = df.groupby(['type', 'year', 'month' ])['demand'].sum().reset_index()\n",
    "df_europe['country'] = 'Europe'  # Assign country as \"Europe\"\n",
    "\n"
   ]
  },
  {
   "cell_type": "code",
   "execution_count": null,
   "metadata": {},
   "outputs": [],
   "source": [
    "# Define a mapping of EU country codes to their full names\n",
    "country_mapping = {\n",
    "    \"AT\": \"Austria\", \"BE\": \"Belgium\", \"BG\": \"Bulgaria\", \"HR\": \"Croatia\", \n",
    "    \"CY\": \"Cyprus\", \"CZ\": \"Czech Republic\", \"DK\": \"Denmark\", \"EE\": \"Estonia\", \n",
    "    \"FI\": \"Finland\", \"FR\": \"France\", \"DE\": \"Germany\", \"GR\": \"Greece\", \n",
    "    \"HU\": \"Hungary\", \"IS\": \"Iceland\", \"IE\": \"Ireland\", \"IT\": \"Italy\", \n",
    "    \"LV\": \"Latvia\", \"LI\": \"Liechtenstein\", \"LT\": \"Lithuania\", \"LU\": \"Luxembourg\", \n",
    "    \"MT\": \"Malta\", \"NL\": \"Netherlands\", \"NO\": \"Norway\", \"PL\": \"Poland\", \n",
    "    \"PT\": \"Portugal\", \"RO\": \"Romania\", \"SK\": \"Slovakia\", \"SI\": \"Slovenia\", \n",
    "    \"ES\": \"Spain\", \"SE\": \"Sweden\", \"CH\": \"Switzerland\", \"TR\": \"Turkey\", \n",
    "    \"UK\": \"United Kingdom\", \"Europe\": \"Europe*\"\n",
    "}\n",
    "\n",
    "# Replace country codes with full names\n",
    "df[\"country_full\"] = df[\"country\"].map(country_mapping)\n",
    "df[\"country\"] = df[\"country_full\"]\n",
    "\n",
    "# Create the 'countryType' column with full country names\n",
    "df[\"country_type\"] = df[\"country_full\"] + \" - \" + df[\"type\"]"
   ]
  },
  {
   "cell_type": "code",
   "execution_count": 19,
   "metadata": {},
   "outputs": [],
   "source": [
    "df = pd.concat([df, df_europe], ignore_index=True)"
   ]
  },
  {
   "cell_type": "code",
   "execution_count": 20,
   "metadata": {},
   "outputs": [],
   "source": [
    "# Define the years to average\n",
    "years_to_average = [2019, 2020, 2021]\n",
    "\n",
    "# Filter for rows corresponding to the specified years\n",
    "filtered_df = df[df['year'].isin(years_to_average)]\n",
    "\n",
    "# Group by country, type, and month, then calculate the average demand\n",
    "index_df = (\n",
    "    filtered_df\n",
    "    .groupby(['country', 'type', 'month'])['demand']\n",
    "    .mean()\n",
    "    .reset_index(name='monthly_index')  # Calculate the average demand\n",
    ")\n",
    "\n",
    "\n",
    "df= df.merge(index_df_s, on=['country', 'type', 'month'], how='left')\n",
    "\n",
    "\n"
   ]
  },
  {
   "cell_type": "markdown",
   "metadata": {},
   "source": [
    "# Indexed"
   ]
  },
  {
   "cell_type": "code",
   "execution_count": null,
   "metadata": {},
   "outputs": [],
   "source": [
    "\n",
    "df_i = df.copy()\n",
    "index_df_i = index_df.copy()"
   ]
  },
  {
   "cell_type": "code",
   "execution_count": null,
   "metadata": {},
   "outputs": [],
   "source": [
    "df_i= df.rename(columns={'demand_x': 'demand'})\n",
    "df_i = df.drop(columns=['demand_y'], errors='ignore')\n",
    "\n",
    "\n",
    "# Update the year column:\n",
    "# - Use year_y if year_x is in [2019, 2020, 2021]\n",
    "# - Otherwise, use year_x\n",
    "df_i['year'] = df_i['year_y'].where(df_i['year_x'].isin(years_to_average), df['year_x'])\n",
    "\n",
    "\n",
    "# Remove rows with years 2019, 2020, or 2021\n",
    "df_i = df_i[~df_i['year_x'].isin(years_to_average)]\n",
    "\n",
    "df_i = df_i.drop(columns=['year_x', 'year_y'])\n",
    "\n",
    "\n",
    "# Avoid dividing by itself for the \"AVG-2019-2021\" rows (set to 1 for these rows)\n",
    "#df.loc[df['year'] == \"AVG-2019-2021\", 'indexed_demand'] = 1\n",
    "\n",
    "df_i = pd.concat([df_i, index_df_i], ignore_index=True)\n",
    "# Calculate indexed demand values for all rows except \"AVG-2019-2021\"\n",
    "df_i['demand_indexed'] = (df_i['demand'] / df_i['monthly_index'])*100\n",
    "\n",
    "# Drop rows where the 'year' column equals \"AVG-2019-2021\"\n",
    "df_i = df_i[df_i['year'] != \"AVG-2019-2021\"]\n",
    "\n",
    "# Optionally, print the updated DataFrame or save it\n",
    "print(\"Rows with 'year' == 'AVG-2019-2021' have been removed.\")\n",
    "df_i['date'] = pd.to_datetime(df_i[['year', 'month']].assign(day=15))\n",
    "# Ensure 'month' and 'year' columns are strings before concatenation\n",
    "df_i[\"month\"] = df_i[\"month\"].astype(str).str.zfill(2)  # Add leading zero to month if needed\n",
    "df_i[\"year\"] = df_i[\"year\"].astype(str)\n",
    "\n",
    "# Create the new column 'monthb' as a concatenation of 'month' and 'year'\n",
    "df_i[\"monthb\"] = df_i[\"month\"] + \"/\" + df_i[\"year\"]\n",
    "\n",
    "#Drop type=total\n",
    "df_i = df_i[df_i['type'] != \"total\"]"
   ]
  },
  {
   "cell_type": "markdown",
   "metadata": {},
   "source": [
    "# Indexed by sector (stacked bar)"
   ]
  },
  {
   "cell_type": "code",
   "execution_count": null,
   "metadata": {},
   "outputs": [],
   "source": [
    "df_s = ds.copy()\n",
    "index_df_s = index_df.copy()"
   ]
  },
  {
   "cell_type": "code",
   "execution_count": null,
   "metadata": {},
   "outputs": [],
   "source": [
    "# Calculate indexed demand values for all rows except \"AVG-2019-2021\"\n",
    "df_s['demand_sector'] = (df_s['demand'] - df_s['monthly_index'])"
   ]
  },
  {
   "cell_type": "code",
   "execution_count": 22,
   "metadata": {},
   "outputs": [],
   "source": [
    "\n",
    "# Remove rows with years 2019, 2020, or 2021\n",
    "df_s= df_s[~df_s['year'].isin(years_to_average)]\n",
    "\n",
    "# Assuming index_df and df are predefined DataFrames\n",
    "# Add a new column for the year and set it to \"2021\"\n",
    "index_df_s['year'] = \"2021\"  # Changed to \"AVG-2019-2021\" based on your requirement\n",
    "index_df_s['month'] = 12\n",
    "\n",
    "# Set indexed_demand to 1 for the new rows\n",
    "index_df_s['monthly_index'] = 1\n",
    "\n",
    "\n",
    "# Set indexed_demand explicitly to 100 for all rows in index_df\n",
    "index_df_s['demand_indexed'] = 100\n",
    "\n",
    "# Keep unique rows based on 'country' and 'type'\n",
    "unique_index_df = index_df_s.drop_duplicates(subset=['country', 'type'])\n",
    "\n",
    "# Concatenate unique rows with the original DataFrame\n",
    "df_s = pd.concat([unique_index_df, df], ignore_index=True)\n",
    "df_s[\"month\"] = df_s[\"month\"].astype(str).str.zfill(2)  # Add leading zero to month if needed\n",
    "df_s[\"year\"] = df_s[\"year\"].astype(str)\n",
    "\n",
    "# Create the new column 'monthb' as a concatenation of 'month' and 'year'\n",
    "df_s[\"x_value\"] =  df_s[\"month\"] + \"/\"+ df_s[\"year\"]\n"
   ]
  },
  {
   "cell_type": "markdown",
   "metadata": {},
   "source": [
    "# Save .json"
   ]
  },
  {
   "cell_type": "code",
   "execution_count": 1,
   "metadata": {},
   "outputs": [
    {
     "ename": "NameError",
     "evalue": "name 'df_s' is not defined",
     "output_type": "error",
     "traceback": [
      "\u001b[1;31m---------------------------------------------------------------------------\u001b[0m",
      "\u001b[1;31mNameError\u001b[0m                                 Traceback (most recent call last)",
      "Cell \u001b[1;32mIn[1], line 1\u001b[0m\n\u001b[1;32m----> 1\u001b[0m df_json \u001b[38;5;241m=\u001b[39m \u001b[43mdf_s\u001b[49m\u001b[38;5;241m.\u001b[39mcopy()\n\u001b[0;32m      2\u001b[0m df_json[\u001b[38;5;124m\"\u001b[39m\u001b[38;5;124my_value\u001b[39m\u001b[38;5;124m\"\u001b[39m] \u001b[38;5;241m=\u001b[39m df_s\u001b[38;5;241m.\u001b[39mpop(\u001b[38;5;124m\"\u001b[39m\u001b[38;5;124mdemand_sector\u001b[39m\u001b[38;5;124m\"\u001b[39m)\n\u001b[0;32m      3\u001b[0m df_json[\u001b[38;5;124m\"\u001b[39m\u001b[38;5;124mgroup_value\u001b[39m\u001b[38;5;124m\"\u001b[39m] \u001b[38;5;241m=\u001b[39m df_s\u001b[38;5;241m.\u001b[39mpop(\u001b[38;5;124m\"\u001b[39m\u001b[38;5;124mtype\u001b[39m\u001b[38;5;124m\"\u001b[39m)\n",
      "\u001b[1;31mNameError\u001b[0m: name 'df_s' is not defined"
     ]
    }
   ],
   "source": [
    "df_json = df_s.copy()\n",
    "df_json[\"y_value\"] = df_s.pop(\"demand_sector\")\n",
    "df_json[\"group_value\"] = df_s.pop(\"type\")\n",
    "df_json[\"group_b_value\"] = df_s.pop(\"country\")\n",
    "# Save to a JSON file\n",
    "file_path = \"highcharts/data/monthly_demand_sector.json\"\n",
    "df_json.to_json(file_path, orient='records', indent=4)\n",
    "print(f\"The file has been saved as: {file_path}\")\n"
   ]
  },
  {
   "cell_type": "code",
   "execution_count": 25,
   "metadata": {},
   "outputs": [
    {
     "name": "stdout",
     "output_type": "stream",
     "text": [
      "The file has been saved as: src/data/analyzed/monthly_demand_clean.json\n"
     ]
    }
   ],
   "source": [
    "df_json = df\n",
    "df_json[\"y_value\"] = df.pop(\"demand_indexed\")\n",
    "df_json[\"group_value\"] = df.pop(\"country_type\")\n",
    "# Save to a JSON file\n",
    "file_path = \"highcharts/data/monthly_demand_indexed.json\"\n",
    "df_json.to_json(file_path, orient='records', indent=4)\n",
    "print(f\"The file has been saved as: {file_path}\")"
   ]
  }
 ],
 "metadata": {
  "kernelspec": {
   "display_name": "Python 3",
   "language": "python",
   "name": "python3"
  },
  "language_info": {
   "codemirror_mode": {
    "name": "ipython",
    "version": 3
   },
   "file_extension": ".py",
   "mimetype": "text/x-python",
   "name": "python",
   "nbconvert_exporter": "python",
   "pygments_lexer": "ipython3",
   "version": "3.13.0"
  }
 },
 "nbformat": 4,
 "nbformat_minor": 2
}
