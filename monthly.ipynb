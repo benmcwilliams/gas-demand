{
 "cells": [
  {
   "cell_type": "markdown",
   "metadata": {},
   "source": [
    "# Monthly data cleaning"
   ]
  },
  {
   "cell_type": "code",
   "execution_count": 20,
   "metadata": {},
   "outputs": [],
   "source": [
    "\n",
    "import pandas as pd\n",
    "import numpy as np\n",
    "import matplotlib.pyplot as plt\n",
    "\n"
   ]
  },
  {
   "cell_type": "code",
   "execution_count": 21,
   "metadata": {},
   "outputs": [],
   "source": [
    "df = pd.read_csv(\"src/data/analyzed/monthly_demand_clean.csv\")\n"
   ]
  },
  {
   "cell_type": "code",
   "execution_count": 22,
   "metadata": {},
   "outputs": [],
   "source": [
    "#sum total; industry etc to get a European value\n",
    "df_europe = df.groupby(['type', 'year', 'month' ])['demand'].sum().reset_index()\n",
    "df_europe['country'] = 'Europe'  # Assign country as \"Europe\"\n",
    "\n",
    "df = pd.concat([df, df_europe], ignore_index=True)"
   ]
  },
  {
   "cell_type": "code",
   "execution_count": 23,
   "metadata": {},
   "outputs": [],
   "source": [
    "# Define a mapping of EU country codes to their full names\n",
    "country_mapping = {\n",
    "    \"AT\": \"Austria\", \"BE\": \"Belgium\", \"BG\": \"Bulgaria\", \"HR\": \"Croatia\", \n",
    "    \"CY\": \"Cyprus\", \"CZ\": \"Czech Republic\", \"DK\": \"Denmark\", \"EE\": \"Estonia\", \n",
    "    \"FI\": \"Finland\", \"FR\": \"France\", \"DE\": \"Germany\", \"GR\": \"Greece\", \n",
    "    \"HU\": \"Hungary\", \"IS\": \"Iceland\", \"IE\": \"Ireland\", \"IT\": \"Italy\", \n",
    "    \"LV\": \"Latvia\", \"LI\": \"Liechtenstein\", \"LT\": \"Lithuania\", \"LU\": \"Luxembourg\", \n",
    "    \"MT\": \"Malta\", \"NL\": \"Netherlands\", \"NO\": \"Norway\", \"PL\": \"Poland\", \n",
    "    \"PT\": \"Portugal\", \"RO\": \"Romania\", \"SK\": \"Slovakia\", \"SI\": \"Slovenia\", \n",
    "    \"ES\": \"Spain\", \"SE\": \"Sweden\", \"CH\": \"Switzerland\", \"TR\": \"Turkey\", \n",
    "    \"UK\": \"United Kingdom\", \"Europe\": \"Europe*\"\n",
    "}\n",
    "\n",
    "# Replace country codes with full names\n",
    "df[\"country_full\"] = df[\"country\"].map(country_mapping)\n",
    "df[\"country\"] = df[\"country_full\"]\n",
    "\n",
    "# Create the 'countryType' column with full country names\n",
    "df[\"country_type\"] = df[\"country_full\"] + \" - \" + df[\"type\"]"
   ]
  },
  {
   "cell_type": "code",
   "execution_count": 24,
   "metadata": {},
   "outputs": [],
   "source": [
    "# Define the years to average\n",
    "years_to_average = [2019, 2020, 2021]\n",
    "\n",
    "# Filter for rows corresponding to the specified years\n",
    "filtered_df = df[df['year'].isin(years_to_average)]\n",
    "\n",
    "# Group by country, type, and month, then calculate the average demand\n",
    "index_df = (\n",
    "    filtered_df\n",
    "    .groupby(['country', 'type', 'month'])['demand']\n",
    "    .mean()\n",
    "    .reset_index(name='monthly_index')  # Calculate the average demand\n",
    ")\n",
    "\n",
    "\n",
    "df= df.merge(index_df, on=['country', 'type', 'month'], how='left')\n",
    "\n",
    "\n"
   ]
  },
  {
   "cell_type": "markdown",
   "metadata": {},
   "source": [
    "# Indexed"
   ]
  },
  {
   "cell_type": "code",
   "execution_count": 25,
   "metadata": {},
   "outputs": [],
   "source": [
    "# Calculate indexed demand values for all rows except \"AVG-2019-2021\"\n",
    "df['demand_sector'] = (df['demand'] - df['monthly_index'])\n",
    "df['demand_indexed'] = (df['demand'] / df['monthly_index'])*100\n"
   ]
  },
  {
   "cell_type": "code",
   "execution_count": null,
   "metadata": {},
   "outputs": [],
   "source": [
    "## For line chart"
   ]
  },
  {
   "cell_type": "code",
   "execution_count": 26,
   "metadata": {},
   "outputs": [],
   "source": [
    "df_i = df.copy()\n",
    "index_df_i = index_df.copy()"
   ]
  },
  {
   "cell_type": "code",
   "execution_count": 27,
   "metadata": {},
   "outputs": [],
   "source": [
    "\n",
    "# Assuming index_df and df are predefined DataFrames\n",
    "# Add a new column for the year and set it to \"2021\"\n",
    "index_df_i['year'] = \"2021\"  # Changed to \"AVG-2019-2021\" based on your requirement\n",
    "index_df_i['month'] = 12\n",
    "\n",
    "# Set indexed_demand to 1 for the new rows\n",
    "index_df_i['monthly_index'] = 1\n",
    "\n",
    "\n",
    "# Set indexed_demand explicitly to 100 for all rows in index_df\n",
    "index_df_i['demand_indexed'] = 100\n",
    "\n",
    "# Keep unique rows based on 'country' and 'type'\n",
    "unique_index_df = index_df_i.drop_duplicates(subset=['country', 'type'])\n",
    "\n",
    "# Concatenate unique rows with the original DataFrame\n",
    "df_i = pd.concat([unique_index_df, df], ignore_index=True)\n",
    "df_i[\"month\"] = df_i[\"month\"].astype(str).str.zfill(2)  # Add leading zero to month if needed\n",
    "df_i[\"year\"] = df_i[\"year\"].astype(str)\n",
    "\n",
    "# Create the new column 'monthb' as a concatenation of 'month' and 'year'\n",
    "df_i[\"x_value\"] =  df_i[\"month\"] + \"/\"+ df_i[\"year\"]\n"
   ]
  },
  {
   "cell_type": "code",
   "execution_count": null,
   "metadata": {},
   "outputs": [],
   "source": [
    "## For line chart"
   ]
  },
  {
   "cell_type": "code",
   "execution_count": 32,
   "metadata": {},
   "outputs": [],
   "source": [
    "df_s = df.copy()\n",
    "index_df_s = index_df.copy()"
   ]
  },
  {
   "cell_type": "code",
   "execution_count": 33,
   "metadata": {},
   "outputs": [],
   "source": [
    "df_s[\"month\"] = df_s[\"month\"].astype(str).str.zfill(2)  # Add leading zero to month if needed\n",
    "df_s[\"year\"] = df_s[\"year\"].astype(str)\n",
    "\n",
    "# Create the new column 'monthb' as a concatenation of 'month' and 'year'\n",
    "df_s[\"x_value\"] =  df_s[\"month\"] + \"/\"+ df_s[\"year\"]"
   ]
  },
  {
   "cell_type": "code",
   "execution_count": 38,
   "metadata": {},
   "outputs": [],
   "source": [
    "\n",
    "# Pivot the table to make it easier to calculate missing types\n",
    "pivot_df = df_s.pivot_table(index=[\"country\", \"x_value\"], columns=\"type\", values=\"demand_sector\", aggfunc=\"sum\")\n",
    "\n",
    "# Create new types based on combinations of available types\n",
    "pivot_df[\"industry - household\"] = pivot_df.apply(\n",
    "    lambda row: row[\"industry\"] - row[\"household\"] if pd.notnull(row[\"industry\"]) and pd.notnull(row[\"household\"]) else None,\n",
    "    axis=1\n",
    ")\n",
    "pivot_df[\"household - power\"] = pivot_df.apply(\n",
    "    lambda row: row[\"household\"] - row[\"power\"] if pd.notnull(row[\"household\"]) and pd.notnull(row[\"power\"]) else None,\n",
    "    axis=1\n",
    ")\n",
    "pivot_df[\"power - industry\"] = pivot_df.apply(\n",
    "    lambda row: row[\"power\"] - row[\"industry\"] if pd.notnull(row[\"power\"]) and pd.notnull(row[\"industry\"]) else None,\n",
    "    axis=1\n",
    ")\n",
    "pivot_df[\"power - household\"] = pivot_df.apply(\n",
    "    lambda row: row[\"power\"] - row[\"household\"] if pd.notnull(row[\"power\"]) and pd.notnull(row[\"household\"]) else None,\n",
    "    axis=1\n",
    ")\n",
    "pivot_df[\"household - industry\"] = pivot_df.apply(\n",
    "    lambda row: row[\"household\"] - row[\"industry\"] if pd.notnull(row[\"household\"]) and pd.notnull(row[\"industry\"]) else None,\n",
    "    axis=1\n",
    ")\n",
    "\n",
    "# Melt back to long format for the final output\n",
    "result = pivot_df.reset_index().melt(\n",
    "    id_vars=[\"country\", \"x_value\"], \n",
    "    value_vars=[\"power\", \"industry\", \"household\", \"industry - household\", \"household - power\", \"power - industry\", \"power - household\", \"household - industry\"],\n",
    "    var_name=\"type\", value_name=\"demand_sector\"\n",
    ").dropna(subset=[\"demand_sector\"])\n",
    "\n",
    "df_s = result.copy()\n"
   ]
  },
  {
   "cell_type": "code",
   "execution_count": 30,
   "metadata": {},
   "outputs": [],
   "source": [
    "df_s = df_s[df_s['type'] != \"total\"]"
   ]
  },
  {
   "cell_type": "markdown",
   "metadata": {},
   "source": [
    "#Line chart"
   ]
  },
  {
   "cell_type": "code",
   "execution_count": 31,
   "metadata": {},
   "outputs": [],
   "source": [
    "\n",
    "#Drop type=total\n",
    "# Remove rows with years 2019, 2020, or 2021\n",
    "df_i= df_i[~df_i['year'].isin(years_to_average)]\n",
    "\n"
   ]
  },
  {
   "cell_type": "markdown",
   "metadata": {},
   "source": [
    "# Save .json"
   ]
  },
  {
   "cell_type": "code",
   "execution_count": 39,
   "metadata": {},
   "outputs": [
    {
     "name": "stdout",
     "output_type": "stream",
     "text": [
      "The file has been saved as: highcharts/data/monthly_demand_sector.json\n"
     ]
    }
   ],
   "source": [
    "df_json = df_s.copy()\n",
    "df_json[\"y_value\"] = df_s.pop(\"demand_sector\")\n",
    "df_json[\"group_value\"] = df_s.pop(\"type\")\n",
    "df_json[\"group_b_value\"] = df_s.pop(\"country\")\n",
    "# Save to a JSON file\n",
    "file_path = \"highcharts/data/monthly_demand_sector.json\"\n",
    "df_json.to_json(file_path, orient='records', indent=4)\n",
    "print(f\"The file has been saved as: {file_path}\")\n"
   ]
  },
  {
   "cell_type": "code",
   "execution_count": 40,
   "metadata": {},
   "outputs": [
    {
     "name": "stdout",
     "output_type": "stream",
     "text": [
      "The file has been saved as: highcharts/data/monthly_demand_indexed.json\n"
     ]
    }
   ],
   "source": [
    "df_json = df_i.copy()\n",
    "df_json[\"y_value\"] = df.pop(\"demand_indexed\")\n",
    "df_json[\"group_value\"] = df.pop(\"country_type\")\n",
    "# Save to a JSON file\n",
    "file_path = \"highcharts/data/monthly_demand_indexed.json\"\n",
    "df_json.to_json(file_path, orient='records', indent=4)\n",
    "print(f\"The file has been saved as: {file_path}\")"
   ]
  }
 ],
 "metadata": {
  "kernelspec": {
   "display_name": "Python 3",
   "language": "python",
   "name": "python3"
  },
  "language_info": {
   "codemirror_mode": {
    "name": "ipython",
    "version": 3
   },
   "file_extension": ".py",
   "mimetype": "text/x-python",
   "name": "python",
   "nbconvert_exporter": "python",
   "pygments_lexer": "ipython3",
   "version": "3.13.0"
  }
 },
 "nbformat": 4,
 "nbformat_minor": 2
}
