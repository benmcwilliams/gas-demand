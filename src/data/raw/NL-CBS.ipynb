{
 "cells": [
  {
   "cell_type": "markdown",
   "id": "b2460afd",
   "metadata": {},
   "source": [
    "Data available to download here:\n",
    "https://opendata.cbs.nl/portal.html?_la=en&_catalog=CBS&tableId=00372eng&_theme=994"
   ]
  },
  {
   "cell_type": "code",
   "execution_count": 21,
   "id": "d4d4d3d2",
   "metadata": {},
   "outputs": [],
   "source": [
    "import pandas as pd\n",
    "\n",
    "CBS_PATH = \"CBS_dutch_power.csv\"\n",
    "mc3toTWh = 102.36 #divide by 102.36 to convert mlnc3 to TWh"
   ]
  },
  {
   "cell_type": "code",
   "execution_count": 22,
   "id": "b43e75af",
   "metadata": {},
   "outputs": [],
   "source": [
    "df = pd.read_csv('CBS.csv',sep=';')\n",
    "\n",
    "df['year'] = df['Periods'].astype('str').str[0:4]\n",
    "df['period_type'] = df['Periods'].astype('str').str[4:6]\n",
    "df['month'] = df['Periods'].astype('str').str[6:8]\n",
    "\n",
    "df_monthly = df[df['period_type'] == 'MM'].reset_index().copy()\n",
    "\n",
    "df_monthly = df_monthly[['ElectricityPowerPlants_22','year','month']].copy()\n",
    "df_monthly['ElectricityPowerPlants_22']=df_monthly['ElectricityPowerPlants_22'].astype('int')\n",
    "\n",
    "df_2019 = df_monthly[df_monthly['year'] == '2019'].copy()\n",
    "df_2020 = df_monthly[df_monthly['year'] == '2020'].copy()\n",
    "df_2021 = df_monthly[df_monthly['year'] == '2021'].copy()\n",
    "df_2022 = df_monthly[(df_monthly['year'] == '2022') & (df_monthly['month'].isin(['01','02','03','04','05','06']))].copy()\n",
    "\n",
    "df_output = pd.concat([df_2019,df_2020,df_2021,df_2022])\n",
    "df_output['country'] = 'NL'\n",
    "df_output['type'] = 'power'\n",
    "df_output['source'] = 'CBS'\n",
    "df_output.rename(columns={'ElectricityPowerPlants_22':'demand'},inplace=True)\n",
    "df_output['demand'] = df_output['demand']/mc3toTWh\n",
    "df_output.to_csv(CBS_PATH, index=False)"
   ]
  },
  {
   "cell_type": "code",
   "execution_count": 10,
   "id": "c358cc5f",
   "metadata": {},
   "outputs": [],
   "source": [
    "df22 = df_monthly[['TotalConsumption_20',\n",
    "                    'ElectricityPowerPlants_22','month']].loc['2022'].groupby('month').mean()/mc3toTWh\n",
    "df22.columns=['Total','Power']\n",
    "df22['Industry&Households']=df22['Total']-df22['Power']\n",
    "df22 = df22.round(2)\n",
    "df22.to_csv('NL_22.csv')"
   ]
  }
 ],
 "metadata": {
  "kernelspec": {
   "display_name": "Python 3 (ipykernel)",
   "language": "python",
   "name": "python3"
  },
  "language_info": {
   "codemirror_mode": {
    "name": "ipython",
    "version": 3
   },
   "file_extension": ".py",
   "mimetype": "text/x-python",
   "name": "python",
   "nbconvert_exporter": "python",
   "pygments_lexer": "ipython3",
   "version": "3.10.9"
  },
  "toc": {
   "base_numbering": 1,
   "nav_menu": {},
   "number_sections": true,
   "sideBar": true,
   "skip_h1_title": false,
   "title_cell": "Table of Contents",
   "title_sidebar": "Contents",
   "toc_cell": false,
   "toc_position": {},
   "toc_section_display": true,
   "toc_window_display": false
  },
  "varInspector": {
   "cols": {
    "lenName": 16,
    "lenType": 16,
    "lenVar": 40
   },
   "kernels_config": {
    "python": {
     "delete_cmd_postfix": "",
     "delete_cmd_prefix": "del ",
     "library": "var_list.py",
     "varRefreshCmd": "print(var_dic_list())"
    },
    "r": {
     "delete_cmd_postfix": ") ",
     "delete_cmd_prefix": "rm(",
     "library": "var_list.r",
     "varRefreshCmd": "cat(var_dic_list()) "
    }
   },
   "types_to_exclude": [
    "module",
    "function",
    "builtin_function_or_method",
    "instance",
    "_Feature"
   ],
   "window_display": false
  }
 },
 "nbformat": 4,
 "nbformat_minor": 5
}
